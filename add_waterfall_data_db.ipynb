{
 "cells": [
  {
   "cell_type": "code",
   "execution_count": 15,
   "id": "908740c9",
   "metadata": {},
   "outputs": [],
   "source": [
    "import sqlalchemy\n",
    "import csv"
   ]
  },
  {
   "cell_type": "code",
   "execution_count": 16,
   "id": "797893c3",
   "metadata": {
    "scrolled": true
   },
   "outputs": [
    {
     "data": {
      "text/plain": [
       "True"
      ]
     },
     "execution_count": 16,
     "metadata": {},
     "output_type": "execute_result"
    }
   ],
   "source": [
    "from dotenv import load_dotenv\n",
    "load_dotenv()"
   ]
  },
  {
   "cell_type": "code",
   "execution_count": 17,
   "id": "835e7457",
   "metadata": {},
   "outputs": [],
   "source": [
    "from service.models.db import db_session"
   ]
  },
  {
   "cell_type": "code",
   "execution_count": 18,
   "id": "4a6ce74d",
   "metadata": {},
   "outputs": [],
   "source": [
    "from service.models.models import waterfall_details"
   ]
  },
  {
   "cell_type": "code",
   "execution_count": 32,
   "id": "158c1f75",
   "metadata": {},
   "outputs": [],
   "source": [
    "def read_csv(filename):\n",
    "    all_waterfalls = []\n",
    "    with open(filename,\"r\",encoding=\"utf-8\") as f:\n",
    "        fields = ['title', 'summary', 'url','height','width','river','country','region','RF_subject']\n",
    "        reader = csv.DictReader(f, fields, delimiter=';')\n",
    "        header = next(reader)\n",
    "        for row in reader:\n",
    "            save_waterfall_data(row)\n",
    "            \n",
    "def save_waterfall_data(row):\n",
    "    waterfall = waterfall_details(\n",
    "                title=row['title'], \n",
    "                summary=row['summary'], \n",
    "                url=row['url'],\n",
    "                height=row['height'],\n",
    "                width=row['width'],\n",
    "                river=row['river'],\n",
    "                country=row['country'],\n",
    "                region=row['region'],\n",
    "                RF_subject=row['RF_subject'])  \n",
    "    db_session.add(waterfall)\n",
    "    db_session.commit()\n",
    "            \n",
    "read_csv(\"waterfalls_details.csv\")"
   ]
  },
  {
   "cell_type": "code",
   "execution_count": null,
   "id": "f4fe1a96",
   "metadata": {},
   "outputs": [],
   "source": []
  }
 ],
 "metadata": {
  "kernelspec": {
   "display_name": "Python 3 (ipykernel)",
   "language": "python",
   "name": "python3"
  },
  "language_info": {
   "codemirror_mode": {
    "name": "ipython",
    "version": 3
   },
   "file_extension": ".py",
   "mimetype": "text/x-python",
   "name": "python",
   "nbconvert_exporter": "python",
   "pygments_lexer": "ipython3",
   "version": "3.9.6"
  }
 },
 "nbformat": 4,
 "nbformat_minor": 5
}

{
 "cells": [
  {
   "cell_type": "code",
   "execution_count": 4,
   "id": "3599d8cd",
   "metadata": {},
   "outputs": [],
   "source": [
    "import csv"
   ]
  },
  {
   "cell_type": "code",
   "execution_count": 33,
   "id": "b74b7aa0",
   "metadata": {},
   "outputs": [],
   "source": [
    "all_waterfalls = []\n",
    "with open(\"waterfalls_details.csv\",\"r\",encoding=\"utf-8\") as f:\n",
    "    fields = ['title', 'summary', 'url','height','width','river','country','region','subject_RF']\n",
    "    reader = csv.DictReader(f, fields, delimiter=';')\n",
    "    header = next(reader)\n",
    "    for row in reader:\n",
    "        all_waterfalls.append({\n",
    "            'title':row['title'].replace('(водопад)',''), \n",
    "            'summary':row['summary'].replace('[1]',''), \n",
    "            'url':row['url'].replace('[1]',''),\n",
    "            'height': row['height'].replace('[1]','').replace('водопада \"Две слезы\" - ',''),\n",
    "            'width':row['width'].replace('[1]','').replace('[комм 1]',''),\n",
    "            'river':row['river'].replace('[1]',''),\n",
    "            'country':row['country'].replace('[1]',''),\n",
    "            'region':row['region'].replace('[1]',''),\n",
    "            'subject_RF':row['subject_RF'].replace('[1]','')\n",
    "        })  \n"
   ]
  },
  {
   "cell_type": "code",
   "execution_count": 35,
   "id": "f6365f12",
   "metadata": {},
   "outputs": [],
   "source": [
    "with open('waterfalls_details.csv','w',encoding='utf-8') as f:\n",
    "    fields = ['title','summary','url','height','width','river','country','region','subject_RF']\n",
    "    writer = csv.DictWriter(f, fields, delimiter=';')\n",
    "    writer.writeheader()\n",
    "    for row in all_waterfalls:\n",
    "        writer.writerow(row)"
   ]
  },
  {
   "cell_type": "code",
   "execution_count": null,
   "id": "77227627",
   "metadata": {},
   "outputs": [],
   "source": []
  }
 ],
 "metadata": {
  "kernelspec": {
   "display_name": "Python 3 (ipykernel)",
   "language": "python",
   "name": "python3"
  },
  "language_info": {
   "codemirror_mode": {
    "name": "ipython",
    "version": 3
   },
   "file_extension": ".py",
   "mimetype": "text/x-python",
   "name": "python",
   "nbconvert_exporter": "python",
   "pygments_lexer": "ipython3",
   "version": "3.9.6"
  }
 },
 "nbformat": 4,
 "nbformat_minor": 5
}
